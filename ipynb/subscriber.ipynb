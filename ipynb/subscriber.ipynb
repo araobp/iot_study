{
 "cells": [
  {
   "cell_type": "code",
   "execution_count": 1,
   "metadata": {
    "collapsed": true
   },
   "outputs": [],
   "source": [
    "import paho.mqtt.client as mqtt\n",
    "\n",
    "HOST = '127.0.0.1'\n",
    "PORT = 1883\n",
    "TOPIC = 'ch1'"
   ]
  },
  {
   "cell_type": "code",
   "execution_count": 2,
   "metadata": {
    "collapsed": true
   },
   "outputs": [],
   "source": [
    "def on_connect(client, userdata, flags, respons_code):\n",
    "    client.subscribe(TOPIC)\n",
    "\n",
    "def on_message(client, userdata, msg):\n",
    "    print('topic: {}, payload: {}'.format(msg.topic, str(msg.payload)))"
   ]
  },
  {
   "cell_type": "code",
   "execution_count": null,
   "metadata": {
    "collapsed": false
   },
   "outputs": [
    {
     "name": "stdout",
     "output_type": "stream",
     "text": [
      "topic: ch1, payload: b'Guten Tag!'\n",
      "topic: ch1, payload: b'Guten Tag!'\n",
      "topic: ch1, payload: b'Guten Tag!'\n",
      "topic: ch1, payload: b'Guten Tag!'\n",
      "topic: ch1, payload: b'Guten Tag!'"
     ]
    }
   ],
   "source": [
    "if __name__ == '__main__':\n",
    "\n",
    "    client = mqtt.Client(protocol=mqtt.MQTTv311)\n",
    "\n",
    "    client.on_connect = on_connect\n",
    "    client.on_message = on_message\n",
    "\n",
    "    client.connect(HOST, port=PORT, keepalive=60)\n",
    "\n",
    "    client.loop_forever()"
   ]
  },
  {
   "cell_type": "code",
   "execution_count": null,
   "metadata": {
    "collapsed": true
   },
   "outputs": [],
   "source": []
  }
 ],
 "metadata": {
  "kernelspec": {
   "display_name": "Python 3",
   "language": "python",
   "name": "python3"
  },
  "language_info": {
   "codemirror_mode": {
    "name": "ipython",
    "version": 3
   },
   "file_extension": ".py",
   "mimetype": "text/x-python",
   "name": "python",
   "nbconvert_exporter": "python",
   "pygments_lexer": "ipython3",
   "version": "3.5.1"
  }
 },
 "nbformat": 4,
 "nbformat_minor": 0
}
